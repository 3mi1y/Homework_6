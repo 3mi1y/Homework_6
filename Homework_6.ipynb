{
 "cells": [
  {
   "cell_type": "markdown",
   "metadata": {},
   "source": [
    "# Homework 6 (more of a tutorial, really)"
   ]
  },
  {
   "cell_type": "markdown",
   "metadata": {},
   "source": [
    "As I was browsing through Kaggle the other day, I came upon a brand new dataset from the University of Puerto Rico, which contains images of bees entering their hive.  The task is to determine automatically which bees are carrying pollen.  Your job will be to develop a convolutional neural network that performs this task.  "
   ]
  },
  {
   "cell_type": "markdown",
   "metadata": {},
   "source": [
    "## 1. Load Data (0 pts)"
   ]
  },
  {
   "cell_type": "markdown",
   "metadata": {},
   "source": [
    "First, we need to load the bee data, which is included along with this homework.  Fortunately, the authors of the Kaggle dataset provided a nice set of files which will do this for us, which I have reproduced below"
   ]
  },
  {
   "cell_type": "code",
   "execution_count": null,
   "metadata": {
    "ExecuteTime": {
     "end_time": "2017-12-20T09:05:56.597567Z",
     "start_time": "2017-12-20T09:05:55.897309Z"
    }
   },
   "outputs": [],
   "source": [
    "import glob, os \n",
    "from skimage import io, transform\n",
    "import numpy as np\n",
    "import matplotlib.pyplot as plt\n",
    "%matplotlib inline "
   ]
  },
  {
   "cell_type": "code",
   "execution_count": null,
   "metadata": {
    "ExecuteTime": {
     "end_time": "2017-12-20T09:05:33.129976Z",
     "start_time": "2017-12-20T09:05:33.120363Z"
    },
    "scrolled": true
   },
   "outputs": [],
   "source": [
    "path=\"images/\"\n",
    "imlist= glob.glob(os.path.join(path, '*.jpg'))"
   ]
  },
  {
   "cell_type": "code",
   "execution_count": null,
   "metadata": {
    "ExecuteTime": {
     "end_time": "2017-12-20T09:06:52.138301Z",
     "start_time": "2017-12-20T09:06:52.114428Z"
    }
   },
   "outputs": [],
   "source": [
    "def dataset(file_list,size=(300,180),flattened=False):\n",
    "    data = []\n",
    "    for i, file in enumerate(file_list):\n",
    "        image = io.imread(file)\n",
    "        image = transform.resize(image, size, mode='constant')\n",
    "        if flattened:\n",
    "            image = image.flatten()\n",
    "\n",
    "        data.append(image)\n",
    "\n",
    "    labels = [1 if f.split(\"/\")[-1][0] == 'P' else 0 for f in file_list]\n",
    "\n",
    "    return np.array(data), np.array(labels)"
   ]
  },
  {
   "cell_type": "code",
   "execution_count": null,
   "metadata": {
    "ExecuteTime": {
     "end_time": "2017-12-20T09:06:54.869883Z",
     "start_time": "2017-12-20T09:06:52.748933Z"
    }
   },
   "outputs": [],
   "source": [
    "# Load the dataset (may take a few seconds)\n",
    "X,y=dataset(imlist)\n",
    "\n",
    "from sklearn.model_selection import train_test_split\n",
    "X_train, X_test, y_train, y_test = train_test_split(X,y,test_size=0.2,random_state=1)"
   ]
  },
  {
   "cell_type": "code",
   "execution_count": null,
   "metadata": {},
   "outputs": [],
   "source": [
    "# X has the following structure: X[imageid, y,x,channel]\n",
    "print('X: ',X.shape)  # data\n",
    "print('y: ',y.shape)  # target\n",
    "\n",
    "print('Class 0: ',sum(y==0))\n",
    "print('Class 1: ',sum(y==1))\n",
    "print('Total  : ',len(y))"
   ]
  },
  {
   "cell_type": "markdown",
   "metadata": {
    "ExecuteTime": {
     "end_time": "2017-12-20T09:06:55.931451Z",
     "start_time": "2017-12-20T09:06:55.916546Z"
    }
   },
   "source": [
    "We can plot a couple of the images below.  If you check out a couple of these, you will see that the visible difference when bees carry pollen is the presence of large fluffy balls of pollen on their back legs."
   ]
  },
  {
   "cell_type": "code",
   "execution_count": null,
   "metadata": {
    "ExecuteTime": {
     "end_time": "2017-12-20T09:06:56.656917Z",
     "start_time": "2017-12-20T09:06:56.365513Z"
    }
   },
   "outputs": [],
   "source": [
    "fig, axes = plt.subplots(1,2)\n",
    "k=0\n",
    "plt.sca(axes[0])\n",
    "plt.imshow(X[k])\n",
    "plt.title('img {} - class {}'.format(k, y[k]))\n",
    "\n",
    "k=401\n",
    "plt.sca(axes[1])\n",
    "plt.imshow(X[k])\n",
    "plt.title('img {} - class {}'.format(k, y[k]));"
   ]
  },
  {
   "cell_type": "markdown",
   "metadata": {},
   "source": [
    "## 2. A convolutional network architecture for bee classification (40 pts)\n",
    "\n",
    "**Implement a 2D convolutional neural network using Keras.  You are free to choose whatever network architecture you like.**\n",
    "\n",
    "You can find all the relevant syntax for implementing such a network [here](https://github.com/keras-team/keras/blob/master/examples/mnist_cnn.py), the Keras convnet example for MNIST.\n",
    "\n",
    "*(For the sake of comparison, I will share the one that I used:*\n",
    "\n",
    "Layer 1: 5x5 convolution layer with 24 kernels and a relu activation function\n",
    "\n",
    "Layer 2: 4x4 Max-pooling layer\n",
    "\n",
    "Layer 3: 5x5 convolution layer with 24 kernels and a relu activation function\n",
    "\n",
    "Layer 4: 4x4 Max-pooling layer\n",
    "\n",
    "Layer 5: 5x5 convolution layer with 24 kernels and a relu activation function\n",
    "\n",
    "Layer 6: 4x4 Max-pooling layer\n",
    "\n",
    "Layer 7: Flattening layer\n",
    "\n",
    "Layer 8: Dropout layer with 0.2 dropout probability\n",
    "\n",
    "Layer 9: 1 node sigmoid layer\n"
   ]
  },
  {
   "cell_type": "code",
   "execution_count": null,
   "metadata": {},
   "outputs": [],
   "source": [
    "import keras\n",
    "import keras.models as km\n",
    "import keras.layers as kl\n",
    "\n",
    "import numpy as np\n",
    "\n",
    "input_shape = ((300,180,3))\n",
    "\n",
    "model = km.Sequential()\n",
    "#! Add layers to your convolutional neural network   \n"
   ]
  },
  {
   "cell_type": "markdown",
   "metadata": {},
   "source": [
    "## 3. Fitting the CNN to data (20 pts)\n",
    "\n",
    "Compile your model, using a binary crossentropy loss function and an optimizer of your choosing (RMSprop worked well for me).  Select a batch size and number of epochs, and fit your model to the training data, while also keeping track of the test set accuracy.\n",
    "\n",
    "**Plot the training and test accuracy of your model at each epoch.  Comment on whether you think the model is being overfit.**"
   ]
  },
  {
   "cell_type": "code",
   "execution_count": null,
   "metadata": {},
   "outputs": [],
   "source": [
    "model.compile(loss=None,                #! Specify a loss function\n",
    "              optimizer=None,           #! Specify an optimizer\n",
    "              metrics=['accuracy'])\n",
    "\n",
    "batch_size = None                       #! Specify a batch size\n",
    "epochs= None                            #! Specify an epoch  \n",
    "history = model.fit(X_train, y_train,\n",
    "          batch_size=batch_size,\n",
    "          epochs=epochs,\n",
    "          verbose=1,\n",
    "          validation_data=(X_test,y_test))\n",
    "\n",
    "#! Plot test and training accuracy (note that the history.history object is a dictionary containing relevant info)"
   ]
  },
  {
   "cell_type": "markdown",
   "metadata": {},
   "source": [
    "## 4. Model evaluation (20 pts)\n",
    "\n",
    "Now that you have a trained model, make a prediction for the test set (model.predict is a useful function for this).  **Compute and display a confusion matrix.  Select and display an example from the test set of a true positive, a true negative, a false positive, and a false negative.  Speculate on the reasons behind misclassification for images that your model predicted incorrectly**."
   ]
  },
  {
   "cell_type": "code",
   "execution_count": null,
   "metadata": {},
   "outputs": [],
   "source": [
    "#! See above"
   ]
  }
 ],
 "metadata": {
  "kernelspec": {
   "display_name": "Python 3",
   "language": "python",
   "name": "python3"
  },
  "language_info": {
   "codemirror_mode": {
    "name": "ipython",
    "version": 3
   },
   "file_extension": ".py",
   "mimetype": "text/x-python",
   "name": "python",
   "nbconvert_exporter": "python",
   "pygments_lexer": "ipython3",
   "version": "3.6.5"
  }
 },
 "nbformat": 4,
 "nbformat_minor": 2
}
